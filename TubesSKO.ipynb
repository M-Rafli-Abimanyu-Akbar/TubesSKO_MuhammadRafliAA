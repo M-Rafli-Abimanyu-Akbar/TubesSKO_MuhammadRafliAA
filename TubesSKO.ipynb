{
  "nbformat": 4,
  "nbformat_minor": 0,
  "metadata": {
    "colab": {
      "name": "TubesSKO.ipynb",
      "provenance": [],
      "include_colab_link": true
    },
    "kernelspec": {
      "name": "python3",
      "display_name": "Python 3"
    }
  },
  "cells": [
    {
      "cell_type": "markdown",
      "metadata": {
        "id": "view-in-github",
        "colab_type": "text"
      },
      "source": [
        "<a href=\"https://colab.research.google.com/github/Raflianjay/TubesSKO_MuhammadRafliAA/blob/main/TubesSKO.ipynb\" target=\"_parent\"><img src=\"https://colab.research.google.com/assets/colab-badge.svg\" alt=\"Open In Colab\"/></a>"
      ]
    },
    {
      "cell_type": "markdown",
      "metadata": {
        "id": "KQB3Efyya5cp"
      },
      "source": [
        "Pada skenario untuk perancangan FTTB ini, pertama-tama dimulai dari Sentral kemudian masuk ke ODC seperti pada gambar melalui kabel Feeder, lalu masuk ke ODP melalui kabel distribusi, Setelah itu masuk ke ODP menggunakan kabel Distribusi dan terakhir masuk ke Roset melalui kabel drop. Terdapat Gedung di kota Bandung yang memiliki 6 lantai, pada Gedung tersebut terdapat 20 kamar pada setiap lantainya. Jadi, untuk perancangan kali ini saya menggunakan Jenis Fiber G625D dengan Panjang gelombang 1310 nm dengan redaman 0,32 dB/Km, dan akan menggunakan 4 konektor dan 2 spliter, pada spliternya digunakan spliter 1:32 dengan redaman 18,5 dB, kemudian untuk ONU ke ODP menggunakan spliter 1:16 dengan redaman 15 dB untuk ODP ke Roset. Selain itu, karena jumlah konektor yang digunakan ada 6 dan spliternya ada 4, maka splicernya ada 8 buah dengan redaman 0,35 dB"
      ]
    },
    {
      "cell_type": "code",
      "metadata": {
        "id": "ux0Ao6OnQz3K"
      },
      "source": [
        "import math as m\r\n",
        "import matplotlib.pyplot as plt\r\n",
        "import numpy as np"
      ],
      "execution_count": 5,
      "outputs": []
    },
    {
      "cell_type": "code",
      "metadata": {
        "id": "ufOfo4wMQ3JJ"
      },
      "source": [
        "#Converter\r\n",
        "NtL = lambda x : 10 * np.log10(x)\r\n",
        "LtN = lambda x : 10**(x/10)\r\n",
        "\r\n",
        "#Parameter SNR\r\n",
        "R = 0.8 #Responsifitas\r\n",
        "SM = 6   #Safety Margin\r\n",
        "M = -0.23 #Tambahan daya sinyal\r\n",
        "q = 1.6*10**-19 #muatan\r\n",
        "id = 90*10**-9 #Arus gelap (Ampere)\r\n",
        "B = 9*10**9 #Bandwith\r\n",
        "F = 1 #Faktor Gain\r\n",
        "K = 1.38*10**-23 #Boltzmann\r\n",
        "T = 300 #Suhu\r\n",
        "RL = 50 #Resistansi Ekivalen\r\n",
        "\r\n",
        "#Parameter Pr\r\n",
        "#jarak dari sentral ke ONU = 20 km\r\n",
        "#jarak dari ONU ke Roset = <500 m --> 5*6 = 30 m\r\n",
        "#jarak total = 20000 + 30 = 20030 m\r\n",
        "\r\n",
        "d = np.arange(0.03,20.031,1) #Jarak (km)\r\n",
        "L_fiber = 0.32 #berdasarkan jenis G657A2 (dB)  \r\n",
        "N_splicer = 8 #Jumlah Splicer\r\n",
        "L_splicer = 0.35 #Loss dari splicer (db)\r\n",
        "N_connector = 4 #Jumlah Konektor\r\n",
        "L_connector = 0.3 #Loss dari konektor (dB)\r\n",
        "L_splitter = 15 + 18.5 #Redaman Splitter 1:16 + Redaman 1:32\r\n",
        "Pt = 5 #Daya tx (dBm)"
      ],
      "execution_count": 6,
      "outputs": []
    },
    {
      "cell_type": "code",
      "metadata": {
        "colab": {
          "base_uri": "https://localhost:8080/"
        },
        "id": "7Rq7EsvEUBIE",
        "outputId": "4059c6cf-b65f-4434-9481-efcbe3483790"
      },
      "source": [
        "#RUMUS PR\r\n",
        "def P_receive():\r\n",
        "  hambatan_fiber = d * L_fiber\r\n",
        "  hambatan_splicer = N_splicer * L_splicer\r\n",
        "  hambatan_connector = N_connector * L_connector\r\n",
        "\r\n",
        "  alfa_total = hambatan_fiber + hambatan_splicer + hambatan_connector + L_splitter + SM\r\n",
        "  Pr = Pt - alfa_total\r\n",
        "  return Pr\r\n",
        "\r\n",
        "Pr = P_receive()\r\n",
        "print('Daya Terima = ', Pr)"
      ],
      "execution_count": 7,
      "outputs": [
        {
          "output_type": "stream",
          "text": [
            "Daya Terima =  [-38.5096 -38.8296 -39.1496 -39.4696 -39.7896 -40.1096 -40.4296 -40.7496\n",
            " -41.0696 -41.3896 -41.7096 -42.0296 -42.3496 -42.6696 -42.9896 -43.3096\n",
            " -43.6296 -43.9496 -44.2696 -44.5896 -44.9096]\n"
          ],
          "name": "stdout"
        }
      ]
    },
    {
      "cell_type": "code",
      "metadata": {
        "colab": {
          "base_uri": "https://localhost:8080/"
        },
        "id": "MFfSjQo6UEuf",
        "outputId": "97b5ca70-4d4b-452a-e2e3-03e475b4faff"
      },
      "source": [
        "#Arus Primer\r\n",
        "def arus_primer():\r\n",
        "  Pr_num = LtN(Pr)\r\n",
        "  ip = Pr_num * R\r\n",
        "  return ip\r\n",
        "ip = arus_primer()\r\n",
        "print(\"Ip = \", ip)"
      ],
      "execution_count": 8,
      "outputs": [
        {
          "output_type": "stream",
          "text": [
            "Ip =  [1.12753488e-04 1.04744201e-04 9.73038417e-05 9.03919982e-05\n",
            " 8.39711280e-05 7.80063553e-05 7.24652821e-05 6.73178112e-05\n",
            " 6.25359839e-05 5.80938270e-05 5.39672126e-05 5.01337264e-05\n",
            " 4.65725467e-05 4.32643304e-05 4.01911087e-05 3.73361891e-05\n",
            " 3.46840646e-05 3.22203302e-05 2.99316037e-05 2.78054538e-05\n",
            " 2.58303319e-05]\n"
          ],
          "name": "stdout"
        }
      ]
    },
    {
      "cell_type": "code",
      "metadata": {
        "colab": {
          "base_uri": "https://localhost:8080/"
        },
        "id": "2BKeAFCGUHMY",
        "outputId": "c36967a3-eec6-4e5d-d385-9dbc0213cec6"
      },
      "source": [
        "#Signal Power\r\n",
        "def signal_power():\r\n",
        "  Is_kuadrat = (ip*M)**2\r\n",
        "  return Is_kuadrat\r\n",
        "Is_kuadrat = signal_power()\r\n",
        "print('Is^2 = ', Is_kuadrat)"
      ],
      "execution_count": 9,
      "outputs": [
        {
          "output_type": "stream",
          "text": [
            "Is^2 =  [6.72536170e-10 5.80384287e-10 5.00859189e-10 4.32230736e-10\n",
            " 3.73005853e-10 3.21896049e-10 2.77789385e-10 2.39726280e-10\n",
            " 2.06878637e-10 1.78531826e-10 1.54069136e-10 1.32958359e-10\n",
            " 1.14740211e-10 9.90183411e-11 8.54507042e-11 7.37421246e-11\n",
            " 6.36378716e-11 5.49181180e-11 4.73931577e-11 4.08992784e-11\n",
            " 3.52951999e-11]\n"
          ],
          "name": "stdout"
        }
      ]
    },
    {
      "cell_type": "code",
      "metadata": {
        "colab": {
          "base_uri": "https://localhost:8080/"
        },
        "id": "QXRgmhOjUJBX",
        "outputId": "58eea8a3-812c-4f5a-adab-798e018e9be0"
      },
      "source": [
        "#RUMUS SNR\r\n",
        "def SNR():\r\n",
        "  BDC = 2*q*id*B*(M**2)*F #Dark Current (Numerik)\r\n",
        "  SN = 2*q*ip*B*(M**2)*F #Shot Noise (Numerik)\r\n",
        "  NT = (4*K*T*B)/RL #Noise Thermal (Numerik)\r\n",
        "  Signal = Is_kuadrat # (Numerik)\r\n",
        "  Noise = BDC + SN + NT # (Numerik)\r\n",
        "\r\n",
        "  SNR = Signal / Noise\r\n",
        "  SNR_dBm = NtL(SNR)\r\n",
        "  return SNR_dBm\r\n",
        "\r\n",
        "SNR = SNR()\r\n",
        "print(SNR)"
      ],
      "execution_count": 10,
      "outputs": [
        {
          "output_type": "stream",
          "text": [
            "[23.50885186 22.87061987 22.23226294 21.59378985 20.95520878 20.31652733\n",
            " 19.67775258 19.0388911  18.39994902 17.76093203 17.1218454  16.48269407\n",
            " 15.8434826  15.20421525 14.56489597 13.92552843 13.28611604 12.64666199\n",
            " 12.00716921 11.36764046 10.72807829]\n"
          ],
          "name": "stdout"
        }
      ]
    },
    {
      "cell_type": "code",
      "metadata": {
        "colab": {
          "base_uri": "https://localhost:8080/"
        },
        "id": "MkenWHLZUK9-",
        "outputId": "ed17cf75-bf2f-46c8-8454-c75f257ca7f8"
      },
      "source": [
        "#RUMUS Q\r\n",
        "def Q_rumus():\r\n",
        "  Q_rumus = 0.5*(10**(SNR/20))\r\n",
        "  return Q_rumus\r\n",
        "Q = Q_rumus()\r\n",
        "print(Q)"
      ],
      "execution_count": 11,
      "outputs": [
        {
          "output_type": "stream",
          "text": [
            "[7.4888063  6.95826554 6.46521767 6.00702579 5.58123672 5.18556844\n",
            " 4.81789835 4.47625232 4.15879445 3.8638175  3.58973405 3.33506811\n",
            " 3.09844745 2.87859633 2.67432881 2.48454247 2.30821259 2.14438669\n",
            " 1.99217949 1.85076819 1.71938811]\n"
          ],
          "name": "stdout"
        }
      ]
    },
    {
      "cell_type": "code",
      "metadata": {
        "colab": {
          "base_uri": "https://localhost:8080/"
        },
        "id": "8pkkORaWUMif",
        "outputId": "e3325f36-f89e-4333-8d38-3f07878afdfb"
      },
      "source": [
        "#RUMUS BER\r\n",
        "pengkali_list = []\r\n",
        "def BER_rumus():\r\n",
        "  akar = 1/(Q * m.sqrt(2 * m.pi))\r\n",
        "  for i in range(len(Q)):\r\n",
        "    pengkali = m.exp(-(Q[i]**2)/2)\r\n",
        "    pengkali_list.append(pengkali)\r\n",
        "  BER = (1/akar)*(pengkali_list)\r\n",
        "  return BER\r\n",
        "BER = BER_rumus()\r\n",
        "print(BER)"
      ],
      "execution_count": 12,
      "outputs": [
        {
          "output_type": "stream",
          "text": [
            "[1.24567067e-11 5.34408353e-10 1.35871065e-08 2.19852020e-07\n",
            " 2.40790674e-06 1.88265578e-05 1.10025771e-04 5.00104869e-04\n",
            " 1.82966596e-03 5.55004837e-03 1.43202792e-02 3.21318342e-02\n",
            " 6.39055801e-02 1.14530160e-01 1.87611805e-01 2.84378667e-01\n",
            " 4.03124149e-01 5.39342203e-01 6.86450082e-01 8.36831847e-01\n",
            " 9.82907048e-01]\n"
          ],
          "name": "stdout"
        }
      ]
    },
    {
      "cell_type": "code",
      "metadata": {
        "colab": {
          "base_uri": "https://localhost:8080/",
          "height": 1000
        },
        "id": "Od9tWq7WUPsv",
        "outputId": "a63b034e-5d2d-4b31-88fa-ca60a0f9925a"
      },
      "source": [
        "#GRAFIK\r\n",
        "def grafik_pertama():\r\n",
        "  plt.figure()\r\n",
        "  plt.plot(d,SNR,'--')\r\n",
        "  plt.title('Perbandingan Jarak dengan SNR')\r\n",
        "  plt.xlabel('Jarak (Km)')\r\n",
        "  plt.ylabel('SNR (dB)')\r\n",
        "  plt.show()\r\n",
        "\r\n",
        "def grafik_kedua():\r\n",
        "  plt.figure()\r\n",
        "  plt.plot(d,Q,'--')\r\n",
        "  plt.title('Perbandingan Jarak dengan Q')\r\n",
        "  plt.xlabel('Jarak (Km)')\r\n",
        "  plt.ylabel('Q')\r\n",
        "  plt.show()\r\n",
        "\r\n",
        "def grafik_ketiga():\r\n",
        "  plt.figure()\r\n",
        "  plt.plot(d,BER,'--')\r\n",
        "  plt.title('Perbandingan Jarak dengan BER')\r\n",
        "  plt.xlabel('Jarak (Km)')\r\n",
        "  plt.ylabel('BER')\r\n",
        "  plt.show()\r\n",
        "\r\n",
        "def grafik_perbandingan_BER_SNR():\r\n",
        "  plt.figure()\r\n",
        "  plt.plot(SNR,BER,'--')\r\n",
        "  plt.title('Perbandingan BER dengan SNR')\r\n",
        "  plt.xlabel('SNR')\r\n",
        "  plt.ylabel('BER')\r\n",
        "  plt.show()\r\n",
        "\r\n",
        "grafik_pertama()\r\n",
        "grafik_kedua()\r\n",
        "grafik_ketiga()\r\n",
        "grafik_perbandingan_BER_SNR()"
      ],
      "execution_count": 13,
      "outputs": [
        {
          "output_type": "display_data",
          "data": {
            "image/png": "[encoded data removed]",
            "text/plain": [
              "<Figure size 432x288 with 1 Axes>"
            ]
          },
          "metadata": {
            "tags": [],
            "needs_background": "light"
          }
        },
        {
          "output_type": "display_data",
          "data": {
            "image/png": "[encoded data removed]",
            "text/plain": [
              "<Figure size 432x288 with 1 Axes>"
            ]
          },
          "metadata": {
            "tags": [],
            "needs_background": "light"
          }
        },
        {
          "output_type": "display_data",
          "data": {
            "image/png": "[encoded data removed]",
            "text/plain": [
              "<Figure size 432x288 with 1 Axes>"
            ]
          },
          "metadata": {
            "tags": [],
            "needs_background": "light"
          }
        },
        {
          "output_type": "display_data",
          "data": {
            "image/png": "[encoded data removed]",
            "text/plain": [
              "<Figure size 432x288 with 1 Axes>"
            ]
          },
          "metadata": {
            "tags": [],
            "needs_background": "light"
          }
        }
      ]
    }
  ]
}